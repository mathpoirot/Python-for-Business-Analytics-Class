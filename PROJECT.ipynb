{
  "nbformat": 4,
  "nbformat_minor": 0,
  "metadata": {
    "colab": {
      "provenance": [],
      "authorship_tag": "ABX9TyOko/nSw8ROYbHfc0Abfsud",
      "include_colab_link": true
    },
    "kernelspec": {
      "name": "python3",
      "display_name": "Python 3"
    },
    "language_info": {
      "name": "python"
    }
  },
  "cells": [
    {
      "cell_type": "markdown",
      "metadata": {
        "id": "view-in-github",
        "colab_type": "text"
      },
      "source": [
        "<a href=\"https://colab.research.google.com/github/mathpoirot/Python-for-Business-Analytics-Class/blob/main/PROJECT.ipynb\" target=\"_parent\"><img src=\"https://colab.research.google.com/assets/colab-badge.svg\" alt=\"Open In Colab\"/></a>"
      ]
    },
    {
      "cell_type": "markdown",
      "source": [
        "# [**PROJECT by MATHILDE POIROT**] *PYTHON PROGRAMMING FOR BUSINESS ANALYTICS*"
      ],
      "metadata": {
        "id": "hRUH-e0YQ8tf"
      }
    },
    {
      "cell_type": "code",
      "execution_count": null,
      "metadata": {
        "id": "c2LtovPRPcDy"
      },
      "outputs": [],
      "source": [
        "!pip install pandas matplotlib seaborn sqlalchemy"
      ]
    }
  ]
}